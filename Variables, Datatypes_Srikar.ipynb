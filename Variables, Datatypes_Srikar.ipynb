{
 "cells": [
  {
   "cell_type": "code",
   "execution_count": 1,
   "id": "99e1dd67-db5e-4eb8-8421-956021beb759",
   "metadata": {},
   "outputs": [
    {
     "data": {
      "text/plain": [
       "'3.13.5 | packaged by Anaconda, Inc. | (main, Jun 12 2025, 16:37:03) [MSC v.1929 64 bit (AMD64)]'"
      ]
     },
     "execution_count": 1,
     "metadata": {},
     "output_type": "execute_result"
    }
   ],
   "source": [
    "import sys\n",
    "sys.version"
   ]
  },
  {
   "cell_type": "markdown",
   "id": "300a231f-786a-435f-8580-f033454773a6",
   "metadata": {},
   "source": [
    "# Python variable = identifer = object \n",
    "# syntax (variable = value)"
   ]
  },
  {
   "cell_type": "markdown",
   "id": "8eb574ac-2ac3-42a4-bbd5-07b3fb9adaa0",
   "metadata": {},
   "source": [
    "# RULES TO DECLARE PYTHON VARIABLE"
   ]
  },
  {
   "cell_type": "code",
   "execution_count": 3,
   "id": "eaaf0ce5-b91e-495b-9d33-85aa253711b1",
   "metadata": {},
   "outputs": [
    {
     "ename": "NameError",
     "evalue": "name 'VAR' is not defined",
     "output_type": "error",
     "traceback": [
      "\u001b[1;31m---------------------------------------------------------------------------\u001b[0m",
      "\u001b[1;31mNameError\u001b[0m                                 Traceback (most recent call last)",
      "Cell \u001b[1;32mIn[3], line 2\u001b[0m\n\u001b[0;32m      1\u001b[0m var \u001b[38;5;241m=\u001b[39m \u001b[38;5;241m8\u001b[39m\n\u001b[1;32m----> 2\u001b[0m VAR\n",
      "\u001b[1;31mNameError\u001b[0m: name 'VAR' is not defined"
     ]
    }
   ],
   "source": [
    "var = 8\n",
    "VAR"
   ]
  },
  {
   "cell_type": "code",
   "execution_count": 4,
   "id": "84832668-9f04-42e8-b5e6-8665fa8efbc5",
   "metadata": {},
   "outputs": [
    {
     "data": {
      "text/plain": [
       "8"
      ]
     },
     "execution_count": 4,
     "metadata": {},
     "output_type": "execute_result"
    }
   ],
   "source": [
    "var"
   ]
  },
  {
   "cell_type": "code",
   "execution_count": 5,
   "id": "bf0605ea-d2dc-4536-92cc-c4f3eac0484d",
   "metadata": {},
   "outputs": [
    {
     "ename": "SyntaxError",
     "evalue": "invalid syntax (887736008.py, line 1)",
     "output_type": "error",
     "traceback": [
      "\u001b[1;36m  Cell \u001b[1;32mIn[5], line 1\u001b[1;36m\u001b[0m\n\u001b[1;33m    v@ = 16\u001b[0m\n\u001b[1;37m       ^\u001b[0m\n\u001b[1;31mSyntaxError\u001b[0m\u001b[1;31m:\u001b[0m invalid syntax\n"
     ]
    }
   ],
   "source": [
    "v@ = 16\n",
    "v@\n"
   ]
  },
  {
   "cell_type": "code",
   "execution_count": 6,
   "id": "e10351e7-6f6a-402b-8110-415dcadeff65",
   "metadata": {},
   "outputs": [
    {
     "data": {
      "text/plain": [
       "20"
      ]
     },
     "execution_count": 6,
     "metadata": {},
     "output_type": "execute_result"
    }
   ],
   "source": [
    "v_ = 20\n",
    "v_"
   ]
  },
  {
   "cell_type": "code",
   "execution_count": 7,
   "id": "c5525615-6aee-4ce6-9675-1646b7d6377b",
   "metadata": {},
   "outputs": [
    {
     "ename": "SyntaxError",
     "evalue": "invalid decimal literal (2044984099.py, line 1)",
     "output_type": "error",
     "traceback": [
      "\u001b[1;36m  Cell \u001b[1;32mIn[7], line 1\u001b[1;36m\u001b[0m\n\u001b[1;33m    1var = 24\u001b[0m\n\u001b[1;37m    ^\u001b[0m\n\u001b[1;31mSyntaxError\u001b[0m\u001b[1;31m:\u001b[0m invalid decimal literal\n"
     ]
    }
   ],
   "source": [
    "1var = 24\n",
    "1var"
   ]
  },
  {
   "cell_type": "code",
   "execution_count": 8,
   "id": "3133489c-e42f-488c-9af5-93ead6d77dec",
   "metadata": {},
   "outputs": [
    {
     "data": {
      "text/plain": [
       "8"
      ]
     },
     "execution_count": 8,
     "metadata": {},
     "output_type": "execute_result"
    }
   ],
   "source": [
    "var1=8\n",
    "var1"
   ]
  },
  {
   "cell_type": "code",
   "execution_count": 9,
   "id": "9b023790-1d02-4964-942c-183519f5d4c5",
   "metadata": {},
   "outputs": [
    {
     "data": {
      "text/plain": [
       "['False',\n",
       " 'None',\n",
       " 'True',\n",
       " 'and',\n",
       " 'as',\n",
       " 'assert',\n",
       " 'async',\n",
       " 'await',\n",
       " 'break',\n",
       " 'class',\n",
       " 'continue',\n",
       " 'def',\n",
       " 'del',\n",
       " 'elif',\n",
       " 'else',\n",
       " 'except',\n",
       " 'finally',\n",
       " 'for',\n",
       " 'from',\n",
       " 'global',\n",
       " 'if',\n",
       " 'import',\n",
       " 'in',\n",
       " 'is',\n",
       " 'lambda',\n",
       " 'nonlocal',\n",
       " 'not',\n",
       " 'or',\n",
       " 'pass',\n",
       " 'raise',\n",
       " 'return',\n",
       " 'try',\n",
       " 'while',\n",
       " 'with',\n",
       " 'yield']"
      ]
     },
     "execution_count": 9,
     "metadata": {},
     "output_type": "execute_result"
    }
   ],
   "source": [
    "import keyword\n",
    "keyword.kwlist"
   ]
  },
  {
   "cell_type": "code",
   "execution_count": 10,
   "id": "6eb24be9-7c81-44b6-9fe6-64dc46ef6081",
   "metadata": {},
   "outputs": [
    {
     "data": {
      "text/plain": [
       "35"
      ]
     },
     "execution_count": 10,
     "metadata": {},
     "output_type": "execute_result"
    }
   ],
   "source": [
    "len(keyword.kwlist)"
   ]
  },
  {
   "cell_type": "code",
   "execution_count": 11,
   "id": "44de1023-a8d9-496a-b489-78691055776a",
   "metadata": {},
   "outputs": [
    {
     "ename": "SyntaxError",
     "evalue": "invalid syntax (633994889.py, line 1)",
     "output_type": "error",
     "traceback": [
      "\u001b[1;36m  Cell \u001b[1;32mIn[11], line 1\u001b[1;36m\u001b[0m\n\u001b[1;33m    for=8\u001b[0m\n\u001b[1;37m       ^\u001b[0m\n\u001b[1;31mSyntaxError\u001b[0m\u001b[1;31m:\u001b[0m invalid syntax\n"
     ]
    }
   ],
   "source": [
    "for=8"
   ]
  },
  {
   "cell_type": "code",
   "execution_count": 12,
   "id": "81dd111c-0f32-4b9d-b930-581177bbe925",
   "metadata": {},
   "outputs": [
    {
     "data": {
      "text/plain": [
       "10"
      ]
     },
     "execution_count": 12,
     "metadata": {},
     "output_type": "execute_result"
    }
   ],
   "source": [
    "DEF=10\n",
    "DEF"
   ]
  },
  {
   "cell_type": "code",
   "execution_count": 13,
   "id": "6877de70-f43c-4506-ac46-e0d07d2e68b1",
   "metadata": {},
   "outputs": [
    {
     "name": "stdout",
     "output_type": "stream",
     "text": [
      "50\n"
     ]
    }
   ],
   "source": [
    "lenght = 10\n",
    "width = 5\n",
    "area = lenght*width\n",
    "print(area)"
   ]
  },
  {
   "cell_type": "markdown",
   "id": "a4d9d00f-5b05-47df-899e-c2231511ffd6",
   "metadata": {},
   "source": [
    "# PYTHON VARIABLE ----15 oct"
   ]
  },
  {
   "cell_type": "code",
   "execution_count": 1,
   "id": "8f1c556f-407b-48ed-8e0a-9c72f4cb9141",
   "metadata": {},
   "outputs": [
    {
     "data": {
      "text/plain": [
       "56"
      ]
     },
     "execution_count": 1,
     "metadata": {},
     "output_type": "execute_result"
    }
   ],
   "source": [
    "false = 56\n",
    "false"
   ]
  },
  {
   "cell_type": "code",
   "execution_count": 2,
   "id": "81bed8f1-ca31-481a-aa3c-f0156289f303",
   "metadata": {},
   "outputs": [
    {
     "ename": "SyntaxError",
     "evalue": "cannot assign to False (3251727829.py, line 1)",
     "output_type": "error",
     "traceback": [
      "\u001b[1;36m  Cell \u001b[1;32mIn[2], line 1\u001b[1;36m\u001b[0m\n\u001b[1;33m    False = 56\u001b[0m\n\u001b[1;37m    ^\u001b[0m\n\u001b[1;31mSyntaxError\u001b[0m\u001b[1;31m:\u001b[0m cannot assign to False\n"
     ]
    }
   ],
   "source": [
    "False = 56\n",
    "False"
   ]
  },
  {
   "cell_type": "markdown",
   "id": "6d5948b3-baea-4317-b309-2644c97b5901",
   "metadata": {},
   "source": [
    "# Python data types\n",
    "int\n",
    "float\n",
    "bool\n",
    "string\n",
    "complex"
   ]
  },
  {
   "cell_type": "code",
   "execution_count": 3,
   "id": "d6f60bca-a884-4023-b015-456901372580",
   "metadata": {},
   "outputs": [
    {
     "data": {
      "text/plain": [
       "5"
      ]
     },
     "execution_count": 3,
     "metadata": {},
     "output_type": "execute_result"
    }
   ],
   "source": [
    "i = 5\n",
    "i"
   ]
  },
  {
   "cell_type": "code",
   "execution_count": 4,
   "id": "9fbdda0a-a4e6-4d02-9fcc-8d9ce836f749",
   "metadata": {},
   "outputs": [
    {
     "data": {
      "text/plain": [
       "int"
      ]
     },
     "execution_count": 4,
     "metadata": {},
     "output_type": "execute_result"
    }
   ],
   "source": [
    "type(i)"
   ]
  },
  {
   "cell_type": "code",
   "execution_count": 5,
   "id": "7424fa2a-165f-448a-84c5-6d4c6cca8e7e",
   "metadata": {},
   "outputs": [
    {
     "data": {
      "text/plain": [
       "110.45"
      ]
     },
     "execution_count": 5,
     "metadata": {},
     "output_type": "execute_result"
    }
   ],
   "source": [
    "f=110.45\n",
    "f"
   ]
  },
  {
   "cell_type": "code",
   "execution_count": 6,
   "id": "dd22558a-5e19-4259-b139-f88301087dc1",
   "metadata": {},
   "outputs": [
    {
     "data": {
      "text/plain": [
       "float"
      ]
     },
     "execution_count": 6,
     "metadata": {},
     "output_type": "execute_result"
    }
   ],
   "source": [
    "type(f)"
   ]
  },
  {
   "cell_type": "code",
   "execution_count": 9,
   "id": "eebff98f-8cb9-4084-acf2-645894b9ea88",
   "metadata": {},
   "outputs": [
    {
     "name": "stdout",
     "output_type": "stream",
     "text": [
      "5\n",
      "110.45\n"
     ]
    }
   ],
   "source": [
    "print(i)\n",
    "print(f) # if required more than 1 output"
   ]
  },
  {
   "cell_type": "code",
   "execution_count": 10,
   "id": "bb328823-6839-47b7-96e6-8b3bd09669df",
   "metadata": {},
   "outputs": [
    {
     "data": {
      "text/plain": [
       "115.45"
      ]
     },
     "execution_count": 10,
     "metadata": {},
     "output_type": "execute_result"
    }
   ],
   "source": [
    "i+f"
   ]
  },
  {
   "cell_type": "code",
   "execution_count": 11,
   "id": "0ab3aa7b-ecd5-47d9-b0cd-5da64ec551d6",
   "metadata": {},
   "outputs": [
    {
     "data": {
      "text/plain": [
       "-105.45"
      ]
     },
     "execution_count": 11,
     "metadata": {},
     "output_type": "execute_result"
    }
   ],
   "source": [
    "i-f"
   ]
  },
  {
   "cell_type": "code",
   "execution_count": 12,
   "id": "b905d08d-32db-40a2-a45b-aa204723f5df",
   "metadata": {},
   "outputs": [
    {
     "data": {
      "text/plain": [
       "552.25"
      ]
     },
     "execution_count": 12,
     "metadata": {},
     "output_type": "execute_result"
    }
   ],
   "source": [
    "i*f"
   ]
  },
  {
   "cell_type": "markdown",
   "id": "d15191f5-0954-4e07-8e0a-27aec80a7947",
   "metadata": {},
   "source": [
    "# bool"
   ]
  },
  {
   "cell_type": "code",
   "execution_count": 14,
   "id": "e1067ae8-0686-4511-afd1-55f16b4b516c",
   "metadata": {},
   "outputs": [
    {
     "data": {
      "text/plain": [
       "True"
      ]
     },
     "execution_count": 14,
     "metadata": {},
     "output_type": "execute_result"
    }
   ],
   "source": [
    "True"
   ]
  },
  {
   "cell_type": "code",
   "execution_count": 15,
   "id": "613c753a-3ceb-40ac-90f5-11c3db20e13f",
   "metadata": {},
   "outputs": [
    {
     "data": {
      "text/plain": [
       "False"
      ]
     },
     "execution_count": 15,
     "metadata": {},
     "output_type": "execute_result"
    }
   ],
   "source": [
    "False"
   ]
  },
  {
   "cell_type": "code",
   "execution_count": 17,
   "id": "8499e7ba-22e5-4109-889c-37a8eb44c136",
   "metadata": {},
   "outputs": [
    {
     "data": {
      "text/plain": [
       "1"
      ]
     },
     "execution_count": 17,
     "metadata": {},
     "output_type": "execute_result"
    }
   ],
   "source": [
    "True + False"
   ]
  },
  {
   "cell_type": "code",
   "execution_count": 18,
   "id": "3b21e180-85f9-4e5a-b2d3-9a6ed27c299b",
   "metadata": {},
   "outputs": [
    {
     "data": {
      "text/plain": [
       "1.0"
      ]
     },
     "execution_count": 18,
     "metadata": {},
     "output_type": "execute_result"
    }
   ],
   "source": [
    "True/True"
   ]
  },
  {
   "cell_type": "code",
   "execution_count": 19,
   "id": "b548906c-8dd0-422f-8648-48fa3e04da48",
   "metadata": {},
   "outputs": [
    {
     "data": {
      "text/plain": [
       "0"
      ]
     },
     "execution_count": 19,
     "metadata": {},
     "output_type": "execute_result"
    }
   ],
   "source": [
    "True * False"
   ]
  },
  {
   "cell_type": "markdown",
   "id": "e4ccee65-ddff-4af2-bbfd-885c874d38a9",
   "metadata": {},
   "source": [
    "# String\n"
   ]
  },
  {
   "cell_type": "code",
   "execution_count": 22,
   "id": "c06707b0-b24c-441f-b965-88a42c66fa8e",
   "metadata": {},
   "outputs": [
    {
     "data": {
      "text/plain": [
       "'hello'"
      ]
     },
     "execution_count": 22,
     "metadata": {},
     "output_type": "execute_result"
    }
   ],
   "source": [
    "s1 = 'hello'\n",
    "s1"
   ]
  },
  {
   "cell_type": "code",
   "execution_count": 24,
   "id": "0ae4fd7a-c30c-4d9d-998e-bb88cdf9de51",
   "metadata": {},
   "outputs": [
    {
     "data": {
      "text/plain": [
       "' hello'"
      ]
     },
     "execution_count": 24,
     "metadata": {},
     "output_type": "execute_result"
    }
   ],
   "source": [
    "s2 = \" hello\"\n",
    "s2"
   ]
  },
  {
   "cell_type": "code",
   "execution_count": 26,
   "id": "8e036615-b506-487a-8e50-3d0e85102546",
   "metadata": {},
   "outputs": [
    {
     "data": {
      "text/plain": [
       "' hello \\n               team '"
      ]
     },
     "execution_count": 26,
     "metadata": {},
     "output_type": "execute_result"
    }
   ],
   "source": [
    "s3 = ''' hello \n",
    "               team '''\n",
    "s3"
   ]
  },
  {
   "cell_type": "code",
   "execution_count": 28,
   "id": "6c76ef07-f621-4ac6-9bed-3302295df40d",
   "metadata": {},
   "outputs": [
    {
     "data": {
      "text/plain": [
       "(10+20j)"
      ]
     },
     "execution_count": 28,
     "metadata": {},
     "output_type": "execute_result"
    }
   ],
   "source": [
    "c= 10 + 20j\n",
    "c"
   ]
  },
  {
   "cell_type": "code",
   "execution_count": 30,
   "id": "e6373773-867f-4b6c-b227-a3d50b1e3d9d",
   "metadata": {},
   "outputs": [
    {
     "data": {
      "text/plain": [
       "10.0"
      ]
     },
     "execution_count": 30,
     "metadata": {},
     "output_type": "execute_result"
    }
   ],
   "source": [
    "c.real\n"
   ]
  },
  {
   "cell_type": "code",
   "execution_count": 31,
   "id": "d8f880b4-4066-42dd-b3bd-7d30c63670c5",
   "metadata": {},
   "outputs": [
    {
     "data": {
      "text/plain": [
       "20.0"
      ]
     },
     "execution_count": 31,
     "metadata": {},
     "output_type": "execute_result"
    }
   ],
   "source": [
    "c.imag"
   ]
  },
  {
   "cell_type": "code",
   "execution_count": 32,
   "id": "6b66cf06-57a6-4a57-8d75-227cc73fd2e3",
   "metadata": {},
   "outputs": [],
   "source": [
    "c= 10+20j\n",
    "d= 20+30j"
   ]
  },
  {
   "cell_type": "code",
   "execution_count": 33,
   "id": "c5559e64-3302-4627-a6ac-f675b9687486",
   "metadata": {},
   "outputs": [
    {
     "name": "stdout",
     "output_type": "stream",
     "text": [
      "(30+50j)\n"
     ]
    }
   ],
   "source": [
    "print(c+d)"
   ]
  },
  {
   "cell_type": "code",
   "execution_count": 34,
   "id": "7ed8882f-ed0d-4d02-a32f-bef3fe9841c5",
   "metadata": {},
   "outputs": [
    {
     "name": "stdout",
     "output_type": "stream",
     "text": [
      "(-10-10j)\n"
     ]
    }
   ],
   "source": [
    "print (c-d)"
   ]
  },
  {
   "cell_type": "code",
   "execution_count": 35,
   "id": "d523c1f5-a51d-42ce-8b1c-86d68a43d80b",
   "metadata": {},
   "outputs": [
    {
     "name": "stdout",
     "output_type": "stream",
     "text": [
      "(-400+700j)\n"
     ]
    }
   ],
   "source": [
    "print(c*d)"
   ]
  },
  {
   "cell_type": "markdown",
   "id": "0c9c60da-fc78-4731-90b4-75babc13bb1a",
   "metadata": {},
   "source": [
    "# Python variable completed\n",
    "# Python datatypes completed"
   ]
  },
  {
   "cell_type": "code",
   "execution_count": null,
   "id": "2a0bbfc7-c07c-42cc-bd5e-b5bfe785af72",
   "metadata": {},
   "outputs": [],
   "source": []
  },
  {
   "cell_type": "code",
   "execution_count": null,
   "id": "03000291-9464-43b2-ba72-b6fcf5795bdc",
   "metadata": {},
   "outputs": [],
   "source": []
  }
 ],
 "metadata": {
  "kernelspec": {
   "display_name": "Python 3 (ipykernel)",
   "language": "python",
   "name": "python3"
  },
  "language_info": {
   "codemirror_mode": {
    "name": "ipython",
    "version": 3
   },
   "file_extension": ".py",
   "mimetype": "text/x-python",
   "name": "python",
   "nbconvert_exporter": "python",
   "pygments_lexer": "ipython3",
   "version": "3.13.5"
  }
 },
 "nbformat": 4,
 "nbformat_minor": 5
}
